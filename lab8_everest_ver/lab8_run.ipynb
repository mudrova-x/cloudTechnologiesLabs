{
 "cells": [
  {
   "cell_type": "code",
   "execution_count": 1,
   "metadata": {
    "tags": []
   },
   "outputs": [
    {
     "name": "stdout",
     "output_type": "stream",
     "text": [
      "line:33\n",
      "!Begin(out!sequence_element)\n",
      "line:89\n",
      "CheckStage(in?sequence_element,out!sequence_element,t:everest)\n",
      "line:203\n",
      "End(in?sequence_element)\n",
      "Ok"
     ]
    }
   ],
   "source": [
    "!../../bin/acta lab_everest.cpp"
   ]
  },
  {
   "cell_type": "markdown",
   "metadata": {},
   "source": [
    "```\n",
    "get Everest access token using password authentication\n",
    "```"
   ]
  },
  {
   "cell_type": "code",
   "execution_count": 2,
   "metadata": {
    "tags": []
   },
   "outputs": [
    {
     "name": "stdout",
     "output_type": "stream",
     "text": [
      "uew4xtr9v4kovyoe5vv8fxs4nbs10iykj7jikwpyn5574vg2wqtfhoyxwx69g9ae"
     ]
    }
   ],
   "source": [
    "#pragma cling load(\"libcurl\")\n",
    "#pragma cling add_include_path(\"../../lib/opt\")\n",
    "#include \"../../lib/everest.hpp\"\n",
    "{\n",
    "    templet::everest_engine teng(\"6132Gvozdkov\",\"GvozdkovPassword1\");\n",
    "    teng.save_access_token();\n",
    "    if (teng) { string token; teng.get_access_token(token); std::cout << token;}\n",
    "    else {std::cout << \"--- authentication failed ---\";}\n",
    "}"
   ]
  },
  {
   "cell_type": "markdown",
   "metadata": {},
   "source": [
    "```\n",
    "get Everest application(s) description using access token and application name\n",
    "```"
   ]
  },
  {
   "cell_type": "code",
   "execution_count": null,
   "metadata": {
    "tags": []
   },
   "outputs": [],
   "source": [
    "#pragma cling load(\"libcurl\")\n",
    "#pragma cling add_include_path(\"../../lib/opt\")\n",
    "#include \"../../lib/everest.hpp\"\n",
    "{\n",
    "    templet::everest_engine teng(\"access-token\");\n",
    "    teng.print_app_description(\"8v_lab_resourse\");\n",
    "}"
   ]
  },
  {
   "cell_type": "code",
   "execution_count": 2,
   "metadata": {
    "tags": []
   },
   "outputs": [],
   "source": [
    "!g++ lab_everest.cpp -l curl -I ../../lib -I ../../lib/opt -o lab8"
   ]
  },
  {
   "cell_type": "code",
   "execution_count": 3,
   "metadata": {
    "tags": []
   },
   "outputs": [
    {
     "name": "stdout",
     "output_type": "stream",
     "text": [
      "--- Отправка элемента последовательности 2 из начального актора Begin\n",
      "--- CheckStage 0\n",
      "------ Проверка элемента последовательности 2 в акторе со stage_id = 0\n",
      "------ Сохранение элемента 2 в акторе со stage_id = 0\n",
      "---------------------------------\n",
      "|   НАЙДЕНО ПРОСТОЕ ЧИСЛО: 2   |\n",
      "---------------------------------\n",
      "--- Отправка элемента последовательности 3 из начального актора Begin\n",
      "--- CheckStage 0\n",
      "------ Проверка элемента последовательности 3 в акторе со stage_id = 0\n",
      "--начало выполнения задачи Everest\n",
      "------ 3 не кратно числу 2\n",
      "--- Отправка элемента последовательности 4 из начального актора Begin\n",
      "--- CheckStage 1\n",
      "------ Проверка элемента последовательности 3 в акторе со stage_id = 1\n",
      "------ Сохранение элемента 3 в акторе со stage_id = 1\n",
      "---------------------------------\n",
      "|   НАЙДЕНО ПРОСТОЕ ЧИСЛО: 3   |\n",
      "---------------------------------\n",
      "--- CheckStage 0\n",
      "------ Проверка элемента последовательности 4 в акторе со stage_id = 0\n",
      "--начало выполнения задачи Everest\n",
      "------ 4 кратно числу 2\n",
      "--- Отправка элемента последовательности 5 из начального актора Begin\n",
      "--- CheckStage 0\n",
      "------ Проверка элемента последовательности 5 в акторе со stage_id = 0\n",
      "--начало выполнения задачи Everest\n",
      "------ 5 не кратно числу 2\n",
      "--- Отправка элемента последовательности 6 из начального актора Begin\n",
      "--- CheckStage 1\n",
      "------ Проверка элемента последовательности 5 в акторе со stage_id = 1\n",
      "--начало выполнения задачи Everest\n",
      "--- CheckStage 0\n",
      "------ 5 не кратно числу 3\n",
      "------ Проверка элемента последовательности 6 в акторе со stage_id = 0\n",
      "--начало выполнения задачи Everest\n",
      "--- CheckStage 2\n",
      "------ Проверка элемента последовательности 5 в акторе со stage_id = 2\n",
      "------ Сохранение элемента 5 в акторе со stage_id = 2\n",
      "---------------------------------\n",
      "|   НАЙДЕНО ПРОСТОЕ ЧИСЛО: 5   |\n",
      "---------------------------------\n",
      "------ 6 кратно числу 2\n",
      "--- Отправка элемента последовательности 7 из начального актора Begin\n",
      "--- CheckStage 0\n",
      "------ Проверка элемента последовательности 7 в акторе со stage_id = 0\n",
      "--начало выполнения задачи Everest\n",
      "------ 7 не кратно числу 2\n",
      "--- Отправка элемента последовательности 8 из начального актора Begin\n",
      "--- CheckStage 1\n",
      "------ Проверка элемента последовательности 7 в акторе со stage_id = 1\n",
      "--начало выполнения задачи Everest\n",
      "--- CheckStage 0\n",
      "------ 7 не кратно числу 3\n",
      "------ Проверка элемента последовательности 8 в акторе со stage_id = 0\n",
      "--начало выполнения задачи Everest\n",
      "--- CheckStage 2\n",
      "------ Проверка элемента последовательности 7 в акторе со stage_id = 2\n",
      "--начало выполнения задачи Everest\n",
      "------ 8 кратно числу 2\n",
      "------ 7 не кратно числу 5\n",
      "--- Сохранение последнего элемента в акторе End 7\n",
      "---------------------------------\n",
      "|   ПОСЛЕДНЕЕ ПРОСТОЕ ЧИСЛО: 7   |\n",
      "---------------------------------\n",
      "Успешное выполнение.\n"
     ]
    }
   ],
   "source": [
    "!./lab8"
   ]
  }
 ],
 "metadata": {
  "kernelspec": {
   "display_name": "C++11",
   "language": "C++11",
   "name": "xcpp11"
  },
  "language_info": {
   "codemirror_mode": "text/x-c++src",
   "file_extension": ".cpp",
   "mimetype": "text/x-c++src",
   "name": "c++",
   "version": "11"
  }
 },
 "nbformat": 4,
 "nbformat_minor": 4
}
